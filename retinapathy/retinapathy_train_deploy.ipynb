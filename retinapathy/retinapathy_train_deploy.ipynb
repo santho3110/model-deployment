{
 "cells": [
  {
   "cell_type": "code",
   "execution_count": 3,
   "metadata": {},
   "outputs": [],
   "source": [
    "from google.cloud import storage\n",
    "from google.cloud import bigquery\n",
    "from google.cloud import aiplatform\n",
    "\n",
    "import datetime\n",
    "import pandas as pd\n",
    "import joblib\n",
    "\n",
    "from sklearn.ensemble import RandomForestClassifier\n",
    "from sklearn.model_selection import train_test_split\n",
    "from sklearn.metrics import f1_score"
   ]
  },
  {
   "cell_type": "code",
   "execution_count": 4,
   "metadata": {
    "tags": []
   },
   "outputs": [],
   "source": [
    "bqclient = bigquery.Client()"
   ]
  },
  {
   "cell_type": "code",
   "execution_count": 5,
   "metadata": {},
   "outputs": [
    {
     "data": {
      "text/html": [
       "<div>\n",
       "<style scoped>\n",
       "    .dataframe tbody tr th:only-of-type {\n",
       "        vertical-align: middle;\n",
       "    }\n",
       "\n",
       "    .dataframe tbody tr th {\n",
       "        vertical-align: top;\n",
       "    }\n",
       "\n",
       "    .dataframe thead th {\n",
       "        text-align: right;\n",
       "    }\n",
       "</style>\n",
       "<table border=\"1\" class=\"dataframe\">\n",
       "  <thead>\n",
       "    <tr style=\"text-align: right;\">\n",
       "      <th></th>\n",
       "      <th>Age</th>\n",
       "      <th>Systolic_BP</th>\n",
       "      <th>Diastolic_BP</th>\n",
       "      <th>Cholesterol</th>\n",
       "      <th>label</th>\n",
       "    </tr>\n",
       "  </thead>\n",
       "  <tbody>\n",
       "    <tr>\n",
       "      <th>0</th>\n",
       "      <td>66.890987</td>\n",
       "      <td>93.205124</td>\n",
       "      <td>85.270310</td>\n",
       "      <td>106.465128</td>\n",
       "      <td>0.0</td>\n",
       "    </tr>\n",
       "    <tr>\n",
       "      <th>1</th>\n",
       "      <td>62.929328</td>\n",
       "      <td>101.524942</td>\n",
       "      <td>95.684936</td>\n",
       "      <td>102.916473</td>\n",
       "      <td>0.0</td>\n",
       "    </tr>\n",
       "    <tr>\n",
       "      <th>2</th>\n",
       "      <td>74.275743</td>\n",
       "      <td>91.245927</td>\n",
       "      <td>78.204968</td>\n",
       "      <td>99.417104</td>\n",
       "      <td>0.0</td>\n",
       "    </tr>\n",
       "    <tr>\n",
       "      <th>3</th>\n",
       "      <td>58.267020</td>\n",
       "      <td>101.259314</td>\n",
       "      <td>86.790774</td>\n",
       "      <td>102.242965</td>\n",
       "      <td>0.0</td>\n",
       "    </tr>\n",
       "    <tr>\n",
       "      <th>4</th>\n",
       "      <td>62.744349</td>\n",
       "      <td>89.883434</td>\n",
       "      <td>80.923457</td>\n",
       "      <td>102.083878</td>\n",
       "      <td>0.0</td>\n",
       "    </tr>\n",
       "  </tbody>\n",
       "</table>\n",
       "</div>"
      ],
      "text/plain": [
       "         Age  Systolic_BP  Diastolic_BP  Cholesterol  label\n",
       "0  66.890987    93.205124     85.270310   106.465128    0.0\n",
       "1  62.929328   101.524942     95.684936   102.916473    0.0\n",
       "2  74.275743    91.245927     78.204968    99.417104    0.0\n",
       "3  58.267020   101.259314     86.790774   102.242965    0.0\n",
       "4  62.744349    89.883434     80.923457   102.083878    0.0"
      ]
     },
     "execution_count": 5,
     "metadata": {},
     "output_type": "execute_result"
    }
   ],
   "source": [
    "query_string = \"SELECT *  FROM `gcp-onsite-training.diabetic_retinapathy.retinapathy-diagnosis` \"\n",
    "\n",
    "dataframe = (\n",
    "    bqclient.query(query_string)\n",
    "    .result()\n",
    "    .to_dataframe(\n",
    "        create_bqstorage_client=True,\n",
    "    )\n",
    ")\n",
    "\n",
    "dataframe.head()"
   ]
  },
  {
   "cell_type": "code",
   "execution_count": 6,
   "metadata": {},
   "outputs": [
    {
     "name": "stdout",
     "output_type": "stream",
     "text": [
      "<class 'pandas.core.frame.DataFrame'>\n",
      "RangeIndex: 6000 entries, 0 to 5999\n",
      "Data columns (total 5 columns):\n",
      " #   Column        Non-Null Count  Dtype  \n",
      "---  ------        --------------  -----  \n",
      " 0   Age           6000 non-null   float64\n",
      " 1   Systolic_BP   6000 non-null   float64\n",
      " 2   Diastolic_BP  6000 non-null   float64\n",
      " 3   Cholesterol   6000 non-null   float64\n",
      " 4   label         6000 non-null   float64\n",
      "dtypes: float64(5)\n",
      "memory usage: 234.5 KB\n"
     ]
    }
   ],
   "source": [
    "dataframe.info()"
   ]
  },
  {
   "cell_type": "code",
   "execution_count": 46,
   "metadata": {},
   "outputs": [
    {
     "name": "stdout",
     "output_type": "stream",
     "text": [
      "X_train shape: (4200, 4)\n",
      "X_test shape: (1800, 4)\n"
     ]
    }
   ],
   "source": [
    "X_train, X_test, y_train, y_test = train_test_split(dataframe.drop(columns=\"label\"), dataframe.label, train_size=0.7, random_state=100)\n",
    "print(\"X_train shape:\", X_train.shape)\n",
    "print(\"X_test shape:\", X_test.shape)"
   ]
  },
  {
   "cell_type": "code",
   "execution_count": 57,
   "metadata": {},
   "outputs": [
    {
     "data": {
      "text/plain": [
       "RandomForestClassifier()"
      ]
     },
     "execution_count": 57,
     "metadata": {},
     "output_type": "execute_result"
    }
   ],
   "source": [
    "# Create the classifier\n",
    "classifier = RandomForestClassifier(n_estimators=100)\n",
    "\n",
    "classifier.fit(X_train, y_train)"
   ]
  },
  {
   "cell_type": "code",
   "execution_count": 58,
   "metadata": {},
   "outputs": [],
   "source": [
    "y_train_pred = classifier.predict(X_train)"
   ]
  },
  {
   "cell_type": "code",
   "execution_count": 59,
   "metadata": {},
   "outputs": [
    {
     "data": {
      "text/plain": [
       "1.0"
      ]
     },
     "execution_count": 59,
     "metadata": {},
     "output_type": "execute_result"
    }
   ],
   "source": [
    "f1_score(y_train_pred, y_train)"
   ]
  },
  {
   "cell_type": "code",
   "execution_count": 60,
   "metadata": {},
   "outputs": [],
   "source": [
    "y_test_pred = classifier.predict(X_test)"
   ]
  },
  {
   "cell_type": "code",
   "execution_count": 61,
   "metadata": {},
   "outputs": [
    {
     "data": {
      "text/plain": [
       "0.7261904761904763"
      ]
     },
     "execution_count": 61,
     "metadata": {},
     "output_type": "execute_result"
    }
   ],
   "source": [
    "f1_score(y_test_pred, y_test)"
   ]
  },
  {
   "cell_type": "code",
   "execution_count": null,
   "metadata": {},
   "outputs": [],
   "source": [
    "# !gsutil mb -b on -l us-east1 gs://retinapaty-artifacts/"
   ]
  },
  {
   "cell_type": "code",
   "execution_count": 73,
   "metadata": {},
   "outputs": [],
   "source": [
    "# Export the model to a file\n",
    "model = 'model.joblib'\n",
    "joblib.dump(classifier, model)\n",
    "\n",
    "# Upload the model to GCS\n",
    "bucket = storage.Client().bucket(\"retinapaty-artifacts\")\n",
    "blob = bucket.blob('{}/{}'.format(\n",
    "    datetime.datetime.now().strftime('retinapathy_%Y%m%d_%H%M%S'),\n",
    "    model))\n",
    "blob.upload_from_filename(model)"
   ]
  },
  {
   "cell_type": "code",
   "execution_count": 78,
   "metadata": {},
   "outputs": [
    {
     "name": "stdout",
     "output_type": "stream",
     "text": [
      "Creating Model\n",
      "Create Model backing LRO: projects/909656045816/locations/us-central1/models/1391387984485416960/operations/7658812688981557248\n",
      "Model created. Resource name: projects/909656045816/locations/us-central1/models/1391387984485416960\n",
      "To use this Model in another session:\n",
      "model = aiplatform.Model('projects/909656045816/locations/us-central1/models/1391387984485416960')\n"
     ]
    }
   ],
   "source": [
    "diabetic_model = aiplatform.Model.upload(display_name=\"diabetic-retinapathy-model-v5\", \n",
    "                                           artifact_uri=\"gs://retinapaty-artifacts/retinapathy_20220518_182529\", \n",
    "                                           serving_container_image_uri=\"us-docker.pkg.dev/vertex-ai/prediction/sklearn-cpu.1-0:latest\")"
   ]
  },
  {
   "cell_type": "code",
   "execution_count": 79,
   "metadata": {},
   "outputs": [
    {
     "name": "stdout",
     "output_type": "stream",
     "text": [
      "Creating Endpoint\n",
      "Create Endpoint backing LRO: projects/909656045816/locations/us-central1/endpoints/8413031967183863808/operations/5599541759366397952\n",
      "Endpoint created. Resource name: projects/909656045816/locations/us-central1/endpoints/8413031967183863808\n",
      "To use this Endpoint in another session:\n",
      "endpoint = aiplatform.Endpoint('projects/909656045816/locations/us-central1/endpoints/8413031967183863808')\n",
      "Deploying model to Endpoint : projects/909656045816/locations/us-central1/endpoints/8413031967183863808\n",
      "Deploy Endpoint model backing LRO: projects/909656045816/locations/us-central1/endpoints/8413031967183863808/operations/1894205165947322368\n",
      "Endpoint model deployed. Resource name: projects/909656045816/locations/us-central1/endpoints/8413031967183863808\n"
     ]
    }
   ],
   "source": [
    "endpoint = diabetic_model.deploy(deployed_model_display_name=\"retinapathy-predicton\", \n",
    "                                 traffic_split={\"0\": 100}, \n",
    "                                 machine_type=\"n1-standard-4\", \n",
    "                                 accelerator_count=0, \n",
    "                                 min_replica_count=1, \n",
    "                                 max_replica_count=1)"
   ]
  },
  {
   "cell_type": "code",
   "execution_count": 100,
   "metadata": {},
   "outputs": [
    {
     "data": {
      "text/plain": [
       "Prediction(predictions=[1.0], deployed_model_id='3236812698591166464', explanations=None)"
      ]
     },
     "execution_count": 100,
     "metadata": {},
     "output_type": "execute_result"
    }
   ],
   "source": [
    "instances = [{\n",
    "    \"Age\": 63.5,\n",
    "    \"Cholesterol\": 110.38241054933151,\n",
    "    \"Diastolic_BP\": 84.852360692033216,\n",
    "    \"Systolic_BP\": 99.379735822842008\n",
    "}]\n",
    "\n",
    "retinapathy_endpoint = aiplatform.Endpoint(endpoint_name=\"8413031967183863808\")\n",
    "retinapathy_endpoint.predict(instances=[list(instances[0].values())])"
   ]
  },
  {
   "cell_type": "code",
   "execution_count": 90,
   "metadata": {},
   "outputs": [
    {
     "data": {
      "text/plain": [
       "[63.5, 110.38241054933151, 84.85236069203322, 99.37973582284201]"
      ]
     },
     "execution_count": 90,
     "metadata": {},
     "output_type": "execute_result"
    }
   ],
   "source": [
    "list(instances[0].values())"
   ]
  }
 ],
 "metadata": {
  "environment": {
   "kernel": "python3",
   "name": "tf2-gpu.2-8.m92",
   "type": "gcloud",
   "uri": "gcr.io/deeplearning-platform-release/tf2-gpu.2-8:m92"
  },
  "kernelspec": {
   "display_name": "Python 3",
   "language": "python",
   "name": "python3"
  },
  "language_info": {
   "codemirror_mode": {
    "name": "ipython",
    "version": 3
   },
   "file_extension": ".py",
   "mimetype": "text/x-python",
   "name": "python",
   "nbconvert_exporter": "python",
   "pygments_lexer": "ipython3",
   "version": "3.8.5"
  }
 },
 "nbformat": 4,
 "nbformat_minor": 5
}
